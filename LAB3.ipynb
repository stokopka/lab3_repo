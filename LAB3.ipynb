{
 "cells": [
  {
   "cell_type": "code",
   "execution_count": 2,
   "metadata": {},
   "outputs": [],
   "source": [
    "import numpy as np\n",
    "import pandas as pd\n",
    "import time"
   ]
  },
  {
   "cell_type": "code",
   "execution_count": 3,
   "metadata": {},
   "outputs": [],
   "source": [
    "def making_array_np():\n",
    "    df = pd.read_csv('clear.csv', index_col=False, header=0, delimiter=';',\n",
    "                          names=['Date', 'Time', 'Global_active_power', 'Global_reactive_power', 'Voltage',\n",
    "                                 'Global_intensity', 'Sub_metering_1', 'Sub_metering_2', 'Sub_metering_3'])\n",
    "\n",
    "\n",
    "    arr = df.values\n",
    "    return arr"
   ]
  },
  {
   "cell_type": "code",
   "execution_count": 4,
   "metadata": {},
   "outputs": [],
   "source": [
    "def making_df():\n",
    "    df = pd.read_csv('clear.csv', index_col=False, header=0, delimiter=';',\n",
    "                    names=['Date', 'Time', 'Global_active_power', 'Global_reactive_power', 'Voltage',\n",
    "                        'Global_intensity', 'Sub_metering_1', 'Sub_metering_2', 'Sub_metering_3'])\n",
    "    return df"
   ]
  },
  {
   "cell_type": "markdown",
   "metadata": {},
   "source": [
    "Обрати всі рядки, у яких загальна активна споживана\n",
    "потужність перевищує 5 кВт."
   ]
  },
  {
   "cell_type": "code",
   "execution_count": 5,
   "metadata": {},
   "outputs": [],
   "source": [
    "def moreThan5kWt_np(arr):\n",
    "    print(arr[arr[:, 2] > 5])   "
   ]
  },
  {
   "cell_type": "code",
   "execution_count": 6,
   "metadata": {},
   "outputs": [],
   "source": [
    "def moreThan5kWt_df(df):\n",
    "    print(df[df['Global_active_power']>5])"
   ]
  },
  {
   "cell_type": "markdown",
   "metadata": {},
   "source": [
    "Обрати всі рядки, у яких вольтаж перевищую 235 В."
   ]
  },
  {
   "cell_type": "code",
   "execution_count": 7,
   "metadata": {},
   "outputs": [],
   "source": [
    "def moreThan235Voltage_np(arr):\n",
    "    print(arr[arr[:, 4] > 235])"
   ]
  },
  {
   "cell_type": "code",
   "execution_count": 8,
   "metadata": {},
   "outputs": [],
   "source": [
    "def moreThan235Voltage_df(df):    \n",
    "    print(df[df['Voltage']>235])"
   ]
  },
  {
   "cell_type": "markdown",
   "metadata": {},
   "source": [
    "Oбрати всі рядки, у яких сила струму лежить в межах\n",
    "19-20 А, для них виявити ті, у яких пральна машина та холодильних(7) споживають більше, ніж бойлер та кондиціонер(8)."
   ]
  },
  {
   "cell_type": "code",
   "execution_count": 9,
   "metadata": {},
   "outputs": [],
   "source": [
    "def third_task_np(arr):\n",
    "    print(arr[(arr[:,5]>19)&(arr[:,5]<20)&(arr[:,7]>arr[:,8])])"
   ]
  },
  {
   "cell_type": "code",
   "execution_count": 10,
   "metadata": {},
   "outputs": [],
   "source": [
    "def third_task_df(df):\n",
    "    print(df[(df['Global_intensity']>19) & (df['Global_intensity']<20) & (df['Sub_metering_2']>df['Sub_metering_3'])])"
   ]
  },
  {
   "cell_type": "markdown",
   "metadata": {},
   "source": [
    "Обрати випадковим чином 500000 рядків (без повторів\n",
    "елементів вибірки), для них обчислити середні величини усіх 3-х груп споживання електричної енергії."
   ]
  },
  {
   "cell_type": "code",
   "execution_count": 11,
   "metadata": {},
   "outputs": [],
   "source": [
    "def fourth_task_np(arr):\n",
    "    array = arr[np.random.randint(arr.shape[0],size=50000), :]#рандомно выбираем из них 50к\n",
    "    average = np.array((array[:,5] + array[:,6]  + array[:,7])/3)#считаем среднее для 3 групп, в результате одномерный массив в рядочек\n",
    "    average = average.reshape((50000,1))\n",
    "    array = np.concatenate((array, average), axis=1)# добавляем новый столбик\n",
    "    print(array)"
   ]
  },
  {
   "cell_type": "code",
   "execution_count": 12,
   "metadata": {},
   "outputs": [],
   "source": [
    "def fourth_task_df(df):\n",
    "    df = df.sample(500000)#500000 рандомных строчек\n",
    "    df['Average'] = df[['Sub_metering_1','Sub_metering_2','Sub_metering_3']].mean(axis =1)"
   ]
  },
  {
   "cell_type": "markdown",
   "metadata": {},
   "source": [
    "Обрати ті рядки, які по часу >= 18-00 споживають понад 6\n",
    "кВт за хвилину в середньому, серед відібраних визначити ті, у яких основне споживання електроенергії у вказаний проміжок часу припадає на пральну машину, сушарку, холодильник та освітлення (група 2 є найбільшою), а потім обрати кожен третій результат із першої половини та кожен четвертий результат із другої половини. "
   ]
  },
  {
   "cell_type": "code",
   "execution_count": 13,
   "metadata": {},
   "outputs": [],
   "source": [
    "def fifth_task_np(arr):\n",
    "    array = arr[(arr[:, 1] > '18:00:00') & ((arr[:, 2] +  arr[:,3]) > 6) & (arr[:, 6] > arr[:, 7]) &(arr[:, 7] > arr[:, 8])]\n",
    "    array1 = array[::3]\n",
    "    array2 = array[::4]\n",
    "    print(array1)"
   ]
  },
  {
   "cell_type": "code",
   "execution_count": 14,
   "metadata": {},
   "outputs": [],
   "source": [
    "def fifth_task_df(df):    \n",
    "    df =df[(df['Time']>'18:00:00')&((df['Global_active_power']+df['Global_reactive_power'])>6)&(df['Sub_metering_2']>df['Sub_metering_1'])&(df['Sub_metering_2']>df['Sub_metering_3'])]\n",
    "    length = int(len(df.index)/2)\n",
    "    df1 = df[:length].iloc[::3,:]\n",
    "    df2 = df[length+1:].iloc[::4,:]\n",
    "    print(df1)\n"
   ]
  },
  {
   "cell_type": "code",
   "execution_count": 17,
   "metadata": {},
   "outputs": [
    {
     "name": "stdout",
     "output_type": "stream",
     "text": [
      "[['16/12/2006' '17:25:00' 5.36 ... 0.0 1.0 16.0]\n",
      " ['16/12/2006' '17:26:00' 5.374 ... 0.0 2.0 17.0]\n",
      " ['16/12/2006' '17:27:00' 5.388 ... 0.0 1.0 17.0]\n",
      " ...\n",
      " ['24/11/2010' '07:50:00' 5.172000000000001 ... 0.0 38.0 17.0]\n",
      " ['24/11/2010' '07:51:00' 5.75 ... 0.0 39.0 17.0]\n",
      " ['25/11/2010' '07:21:00' 5.074 ... 1.0 2.0 18.0]]\n",
      "               Date      Time  Global_active_power  Global_reactive_power  \\\n",
      "1        16/12/2006  17:25:00                5.360                  0.436   \n",
      "2        16/12/2006  17:26:00                5.374                  0.498   \n",
      "3        16/12/2006  17:27:00                5.388                  0.502   \n",
      "11       16/12/2006  17:35:00                5.412                  0.470   \n",
      "12       16/12/2006  17:36:00                5.224                  0.478   \n",
      "...             ...       ...                  ...                    ...   \n",
      "2043377  22/11/2010  18:40:00                5.408                  0.150   \n",
      "2043378  22/11/2010  18:41:00                5.528                  0.144   \n",
      "2045607  24/11/2010  07:50:00                5.172                  0.050   \n",
      "2045608  24/11/2010  07:51:00                5.750                  0.000   \n",
      "2047018  25/11/2010  07:21:00                5.074                  0.240   \n",
      "\n",
      "         Voltage  Global_intensity  Sub_metering_1  Sub_metering_2  \\\n",
      "1         233.63              23.0             0.0             1.0   \n",
      "2         233.29              23.0             0.0             2.0   \n",
      "3         233.74              23.0             0.0             1.0   \n",
      "11        232.78              23.2             0.0             1.0   \n",
      "12        232.99              22.4             0.0             1.0   \n",
      "...          ...               ...             ...             ...   \n",
      "2043377   231.50              23.6            48.0             0.0   \n",
      "2043378   232.48              24.6            53.0             0.0   \n",
      "2045607   235.18              22.0             0.0            38.0   \n",
      "2045608   234.40              24.6             0.0            39.0   \n",
      "2047018   238.55              21.4             1.0             2.0   \n",
      "\n",
      "         Sub_metering_3  \n",
      "1                  16.0  \n",
      "2                  17.0  \n",
      "3                  17.0  \n",
      "11                 17.0  \n",
      "12                 16.0  \n",
      "...                 ...  \n",
      "2043377             0.0  \n",
      "2043378             0.0  \n",
      "2045607            17.0  \n",
      "2045608            17.0  \n",
      "2047018            18.0  \n",
      "\n",
      "[17547 rows x 9 columns]\n",
      "For first task with NumPy:  0.16755175590515137\n",
      "For first task with DataFrame:  0.0388941764831543\n"
     ]
    }
   ],
   "source": [
    "arr = making_array_np()\n",
    "df = making_df()\n",
    "\n",
    "start = time.time()\n",
    "moreThan5kWt_np(arr)\n",
    "end = time.time()\n",
    "diff_np = end-start\n",
    "\n",
    "start1 = time.time()\n",
    "moreThan5kWt_df(df)\n",
    "end1 = time.time()\n",
    "diff_df = end1-start1\n",
    "\n",
    "print(\"For first task with NumPy: \",diff_np)\n",
    "print(\"For first task with DataFrame: \",diff_df)"
   ]
  },
  {
   "cell_type": "code",
   "execution_count": 16,
   "metadata": {},
   "outputs": [
    {
     "name": "stdout",
     "output_type": "stream",
     "text": [
      "[['16/12/2006' '17:28:00' 3.6660000000000004 ... 0.0 1.0 17.0]\n",
      " ['16/12/2006' '17:29:00' 3.52 ... 0.0 2.0 17.0]\n",
      " ['16/12/2006' '17:30:00' 3.702 ... 0.0 1.0 17.0]\n",
      " ...\n",
      " ['26/11/2010' '21:00:00' 0.938 ... 0.0 0.0 0.0]\n",
      " ['26/11/2010' '21:01:00' 0.934 ... 0.0 0.0 0.0]\n",
      " ['26/11/2010' '21:02:00' 0.932 ... 0.0 0.0 0.0]]\n",
      "               Date      Time  Global_active_power  Global_reactive_power  \\\n",
      "4        16/12/2006  17:28:00                3.666                  0.528   \n",
      "5        16/12/2006  17:29:00                3.520                  0.522   \n",
      "6        16/12/2006  17:30:00                3.702                  0.520   \n",
      "7        16/12/2006  17:31:00                3.700                  0.520   \n",
      "14       16/12/2006  17:38:00                4.054                  0.422   \n",
      "...             ...       ...                  ...                    ...   \n",
      "2049275  26/11/2010  20:58:00                0.946                  0.000   \n",
      "2049276  26/11/2010  20:59:00                0.944                  0.000   \n",
      "2049277  26/11/2010  21:00:00                0.938                  0.000   \n",
      "2049278  26/11/2010  21:01:00                0.934                  0.000   \n",
      "2049279  26/11/2010  21:02:00                0.932                  0.000   \n",
      "\n",
      "         Voltage  Global_intensity  Sub_metering_1  Sub_metering_2  \\\n",
      "4         235.68              15.8             0.0             1.0   \n",
      "5         235.02              15.0             0.0             2.0   \n",
      "6         235.09              15.8             0.0             1.0   \n",
      "7         235.22              15.8             0.0             1.0   \n",
      "14        235.24              17.6             0.0             1.0   \n",
      "...          ...               ...             ...             ...   \n",
      "2049275   240.43               4.0             0.0             0.0   \n",
      "2049276   240.00               4.0             0.0             0.0   \n",
      "2049277   239.82               3.8             0.0             0.0   \n",
      "2049278   239.70               3.8             0.0             0.0   \n",
      "2049279   239.55               3.8             0.0             0.0   \n",
      "\n",
      "         Sub_metering_3  \n",
      "4                  17.0  \n",
      "5                  17.0  \n",
      "6                  17.0  \n",
      "7                  17.0  \n",
      "14                 17.0  \n",
      "...                 ...  \n",
      "2049275             0.0  \n",
      "2049276             0.0  \n",
      "2049277             0.0  \n",
      "2049278             0.0  \n",
      "2049279             0.0  \n",
      "\n",
      "[1952491 rows x 9 columns]\n",
      "For second task with NumPy:  0.536566972732544\n",
      "For second task with DataFrame:  0.34407830238342285\n"
     ]
    }
   ],
   "source": [
    "start = time.time()\n",
    "moreThan235Voltage_np(arr)\n",
    "end = time.time()\n",
    "diff_np = end-start\n",
    "\n",
    "start1 = time.time()\n",
    "moreThan235Voltage_df(df)\n",
    "end1 = time.time()\n",
    "diff_df = end1-start1\n",
    "\n",
    "print(\"For second task with NumPy: \",diff_np)\n",
    "print(\"For second task with DataFrame: \",diff_df)"
   ]
  },
  {
   "cell_type": "code",
   "execution_count": 104,
   "metadata": {},
   "outputs": [
    {
     "name": "stdout",
     "output_type": "stream",
     "text": [
      "[['17/12/2006' '01:04:00' 4.582 ... 0.0 13.0 0.0]\n",
      " ['17/12/2006' '01:08:00' 4.618 ... 0.0 27.0 0.0]\n",
      " ['17/12/2006' '01:19:00' 4.636 ... 0.0 36.0 0.0]\n",
      " ...\n",
      " ['24/11/2010' '07:54:00' 4.694 ... 0.0 39.0 18.0]\n",
      " ['24/11/2010' '07:55:00' 4.602 ... 0.0 40.0 17.0]\n",
      " ['24/11/2010' '07:57:00' 4.626 ... 0.0 39.0 17.0]]\n",
      "               Date      Time  Global_active_power  Global_reactive_power  \\\n",
      "460      17/12/2006  01:04:00                4.582                  0.258   \n",
      "464      17/12/2006  01:08:00                4.618                  0.104   \n",
      "475      17/12/2006  01:19:00                4.636                  0.140   \n",
      "476      17/12/2006  01:20:00                4.634                  0.152   \n",
      "477      17/12/2006  01:21:00                4.652                  0.142   \n",
      "...             ...       ...                  ...                    ...   \n",
      "2045609  24/11/2010  07:52:00                4.636                  0.000   \n",
      "2045610  24/11/2010  07:53:00                4.666                  0.000   \n",
      "2045611  24/11/2010  07:54:00                4.694                  0.000   \n",
      "2045612  24/11/2010  07:55:00                4.602                  0.000   \n",
      "2045614  24/11/2010  07:57:00                4.626                  0.000   \n",
      "\n",
      "         Voltage  Global_intensity  Sub_metering_1  Sub_metering_2  \\\n",
      "460       238.08              19.6             0.0            13.0   \n",
      "464       239.61              19.6             0.0            27.0   \n",
      "475       237.37              19.4             0.0            36.0   \n",
      "476       237.17              19.4             0.0            35.0   \n",
      "477       237.92              19.4             0.0            36.0   \n",
      "...          ...               ...             ...             ...   \n",
      "2045609   234.57              19.6             0.0            38.0   \n",
      "2045610   235.72              19.8             0.0            39.0   \n",
      "2045611   236.78              19.8             0.0            39.0   \n",
      "2045612   237.08              19.4             0.0            40.0   \n",
      "2045614   236.78              19.4             0.0            39.0   \n",
      "\n",
      "         Sub_metering_3  \n",
      "460                 0.0  \n",
      "464                 0.0  \n",
      "475                 0.0  \n",
      "476                 0.0  \n",
      "477                 0.0  \n",
      "...                 ...  \n",
      "2045609            16.0  \n",
      "2045610            17.0  \n",
      "2045611            18.0  \n",
      "2045612            17.0  \n",
      "2045614            17.0  \n",
      "\n",
      "[1678 rows x 9 columns]\n",
      "For third task with NumPy:  0.19846510887145996\n",
      "For third task with DataFrame:  0.02493429183959961\n"
     ]
    }
   ],
   "source": [
    "start = time.time()\n",
    "third_task_np(arr)\n",
    "end = time.time()\n",
    "diff_np = end -start\n",
    "\n",
    "start = time.time()\n",
    "third_task_df(df)\n",
    "end = time.time()\n",
    "diff_df = end -start\n",
    "\n",
    "print(\"For third task with NumPy: \", diff_np)\n",
    "print(\"For third task with DataFrame: \", diff_df)"
   ]
  },
  {
   "cell_type": "code",
   "execution_count": 105,
   "metadata": {},
   "outputs": [
    {
     "name": "stdout",
     "output_type": "stream",
     "text": [
      "[['9/12/2009' '05:18:00' 0.40399999999999997 ... 1.0 1.0\n",
      "  0.9333333333333332]\n",
      " ['2/12/2007' '16:12:00' 3.9160000000000004 ... 25.0 18.0\n",
      "  13.733333333333334]\n",
      " ['23/8/2009' '03:39:00' 0.38799999999999996 ... 1.0 1.0\n",
      "  1.0666666666666667]\n",
      " ...\n",
      " ['11/11/2010' '22:56:00' 0.386 ... 1.0 0.0 0.8666666666666667]\n",
      " ['3/2/2009' '20:48:00' 2.0540000000000003 ... 0.0 0.0 2.8000000000000003]\n",
      " ['23/7/2009' '04:52:00' 0.204 ... 1.0 0.0 0.6666666666666666]]\n",
      "For fourth task with NumPy:  0.16156649589538574\n",
      "For fourth task with DataFrame:  0.2742645740509033\n"
     ]
    }
   ],
   "source": [
    "start = time.time()\n",
    "fourth_task_np(arr)\n",
    "end = time.time()\n",
    "diff_np = end -start\n",
    "\n",
    "start = time.time()\n",
    "fourth_task_df(df)\n",
    "end = time.time()\n",
    "diff_df = end -start\n",
    "\n",
    "print(\"For fourth task with NumPy: \", diff_np)\n",
    "print(\"For fourth task with DataFrame: \", diff_df)"
   ]
  },
  {
   "cell_type": "code",
   "execution_count": 106,
   "metadata": {},
   "outputs": [
    {
     "name": "stdout",
     "output_type": "stream",
     "text": [
      "[['23/12/2006' '22:37:00' 8.632 ... 38.0 1.0 0.0]\n",
      " ['23/12/2006' '22:49:00' 5.892 ... 36.0 2.0 0.0]\n",
      " ['25/12/2006' '21:49:00' 6.362 ... 37.0 32.0 17.0]\n",
      " ...\n",
      " ['21/6/2010' '18:57:00' 7.022 ... 67.0 24.0 18.0]\n",
      " ['11/10/2010' '21:39:00' 5.938 ... 37.0 32.0 18.0]\n",
      " ['4/11/2010' '19:16:00' 6.696000000000001 ... 40.0 35.0 0.0]]\n",
      "[['23/12/2006' '22:37:00' 8.632 ... 38.0 1.0 0.0]\n",
      " ['23/12/2006' '22:49:00' 5.892 ... 36.0 2.0 0.0]\n",
      " ['25/12/2006' '21:49:00' 6.362 ... 37.0 32.0 17.0]\n",
      " ...\n",
      " ['21/6/2010' '18:57:00' 7.022 ... 67.0 24.0 18.0]\n",
      " ['11/10/2010' '21:39:00' 5.938 ... 37.0 32.0 18.0]\n",
      " ['4/11/2010' '19:16:00' 6.696000000000001 ... 40.0 35.0 0.0]]\n",
      "For fifth task with NumPy:  0.3959383964538574\n",
      "For fifth task with DataFrame:  0.350067138671875\n"
     ]
    }
   ],
   "source": [
    "start = time.time()\n",
    "fifth_task_np(arr)\n",
    "end = time.time()\n",
    "diff_np = end -start\n",
    "\n",
    "start = time.time()\n",
    "fifth_task_np(arr)\n",
    "end = time.time()\n",
    "diff_df =end -start\n",
    "\n",
    "print(\"For fifth task with NumPy: \", diff_np)\n",
    "print(\"For fifth task with DataFrame: \", diff_df)"
   ]
  },
  {
   "cell_type": "code",
   "execution_count": null,
   "metadata": {},
   "outputs": [],
   "source": []
  }
 ],
 "metadata": {
  "kernelspec": {
   "display_name": "Python 3",
   "language": "python",
   "name": "python3"
  },
  "language_info": {
   "codemirror_mode": {
    "name": "ipython",
    "version": 3
   },
   "file_extension": ".py",
   "mimetype": "text/x-python",
   "name": "python",
   "nbconvert_exporter": "python",
   "pygments_lexer": "ipython3",
   "version": "3.7.6"
  }
 },
 "nbformat": 4,
 "nbformat_minor": 4
}
